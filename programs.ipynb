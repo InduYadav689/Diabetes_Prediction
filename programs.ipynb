{
  "nbformat": 4,
  "nbformat_minor": 0,
  "metadata": {
    "colab": {
      "provenance": [],
      "include_colab_link": true
    },
    "kernelspec": {
      "name": "python3",
      "display_name": "Python 3"
    },
    "language_info": {
      "name": "python"
    }
  },
  "cells": [
    {
      "cell_type": "markdown",
      "metadata": {
        "id": "view-in-github",
        "colab_type": "text"
      },
      "source": [
        "<a href=\"https://colab.research.google.com/github/InduYadav689/Diabetes_Prediction/blob/main/programs.ipynb\" target=\"_parent\"><img src=\"https://colab.research.google.com/assets/colab-badge.svg\" alt=\"Open In Colab\"/></a>"
      ]
    },
    {
      "cell_type": "code",
      "execution_count": null,
      "metadata": {
        "colab": {
          "base_uri": "https://localhost:8080/"
        },
        "id": "qXBbx7IF4myV",
        "outputId": "eb0027de-dfe7-4d04-961c-ba458c496b02"
      },
      "outputs": [
        {
          "output_type": "stream",
          "name": "stdout",
          "text": [
            "Hi Again !!\n"
          ]
        }
      ],
      "source": [
        "print(\"Hi Again !!\")"
      ]
    },
    {
      "cell_type": "code",
      "source": [
        "name = \"Zaheer\"\n",
        "print(name)"
      ],
      "metadata": {
        "colab": {
          "base_uri": "https://localhost:8080/"
        },
        "id": "0xESkz3j47-r",
        "outputId": "bba23ea7-e520-42f7-ae71-5748dc3780aa"
      },
      "execution_count": null,
      "outputs": [
        {
          "output_type": "stream",
          "name": "stdout",
          "text": [
            "Zaheer\n"
          ]
        }
      ]
    },
    {
      "cell_type": "code",
      "source": [
        "name = input(\"Enter your name \")\n",
        "\n",
        "print(name)"
      ],
      "metadata": {
        "colab": {
          "base_uri": "https://localhost:8080/"
        },
        "id": "4IINksm25PBx",
        "outputId": "61cc1190-aab6-4d6f-bb11-c99f0c10f197"
      },
      "execution_count": null,
      "outputs": [
        {
          "output_type": "stream",
          "name": "stdout",
          "text": [
            "Enter your name Saleem bhai\n",
            "Saleem bhai\n"
          ]
        }
      ]
    },
    {
      "cell_type": "code",
      "source": [
        "age = int(input(\"Enter age : \"))\n",
        "print(age)"
      ],
      "metadata": {
        "colab": {
          "base_uri": "https://localhost:8080/"
        },
        "id": "E2fY1Rsd7Rat",
        "outputId": "d6c89110-f1e8-4b9d-d554-d59cc72ce111"
      },
      "execution_count": null,
      "outputs": [
        {
          "output_type": "stream",
          "name": "stdout",
          "text": [
            "Enter age : 18\n",
            "18\n"
          ]
        }
      ]
    },
    {
      "cell_type": "code",
      "source": [
        "value = float(input(\"Float value \"))\n",
        "print(value)"
      ],
      "metadata": {
        "colab": {
          "base_uri": "https://localhost:8080/"
        },
        "id": "bT1oRR0z7lcZ",
        "outputId": "f7e580c9-88aa-469f-b462-c6068770527c"
      },
      "execution_count": null,
      "outputs": [
        {
          "output_type": "stream",
          "name": "stdout",
          "text": [
            "Float value 193.94939\n",
            "193.94939\n"
          ]
        }
      ]
    },
    {
      "cell_type": "code",
      "source": [
        "a = \"\"\" Hi try to\n",
        "do the programs everyday\"\"\"\n",
        "\n",
        "print(a)"
      ],
      "metadata": {
        "colab": {
          "base_uri": "https://localhost:8080/"
        },
        "id": "KZu8U3849TUX",
        "outputId": "669abf40-1bef-47a5-f75a-f009ebe86e6d"
      },
      "execution_count": null,
      "outputs": [
        {
          "output_type": "stream",
          "name": "stdout",
          "text": [
            " Hi try to \n",
            "do the programs everyday\n"
          ]
        }
      ]
    },
    {
      "cell_type": "code",
      "source": [
        "Name = \"Althaf\"\n",
        "\n",
        "print(len(Name))  #length of the string\n",
        "\n",
        "'''slicing concepts in string\n",
        "'''\n",
        "print(Name[0])\n",
        "print(Name[0:6])\n",
        "print(Name[-1])\n",
        "\n",
        "\n"
      ],
      "metadata": {
        "colab": {
          "base_uri": "https://localhost:8080/"
        },
        "id": "09XJLkcZ9fBs",
        "outputId": "7d0c49ce-14d7-4897-b2f7-6232411fa11d"
      },
      "execution_count": null,
      "outputs": [
        {
          "output_type": "stream",
          "name": "stdout",
          "text": [
            "6\n",
            "l\n"
          ]
        }
      ]
    },
    {
      "cell_type": "code",
      "source": [
        "a = \"St Joseph\"\n",
        "print(a[3:9])"
      ],
      "metadata": {
        "colab": {
          "base_uri": "https://localhost:8080/"
        },
        "id": "xea5D2eD_9MY",
        "outputId": "8caecd8b-80f7-471e-914a-ee7d88af5671"
      },
      "execution_count": null,
      "outputs": [
        {
          "output_type": "stream",
          "name": "stdout",
          "text": [
            "Joseph\n"
          ]
        }
      ]
    },
    {
      "cell_type": "code",
      "source": [
        "Name = \"Kumar\"\n",
        "\n",
        "print(Name.upper())\n",
        "print(Name.lower())\n"
      ],
      "metadata": {
        "colab": {
          "base_uri": "https://localhost:8080/"
        },
        "id": "3XKgJRXqAKOu",
        "outputId": "346f49f5-16c6-431a-d952-6670c08e8702"
      },
      "execution_count": null,
      "outputs": [
        {
          "output_type": "stream",
          "name": "stdout",
          "text": [
            "KUMAR\n",
            "kumar\n"
          ]
        }
      ]
    },
    {
      "cell_type": "code",
      "source": [
        "a = \"Shiva\"\n",
        "b = \"Kumar\"\n",
        "c = a + \" \" + b\n",
        "print(c)"
      ],
      "metadata": {
        "colab": {
          "base_uri": "https://localhost:8080/"
        },
        "id": "JgM4sKdZAcUI",
        "outputId": "8c7310f6-def2-43f6-ebab-8fc669792b5e"
      },
      "execution_count": null,
      "outputs": [
        {
          "output_type": "stream",
          "name": "stdout",
          "text": [
            "Shiva Kumar\n"
          ]
        }
      ]
    },
    {
      "cell_type": "code",
      "source": [
        "a = \"3\"\n",
        "b = \"zaheer\"\n",
        "\n",
        "c= a+b\n",
        "print(c)\n",
        "\n",
        "# type(p)"
      ],
      "metadata": {
        "colab": {
          "base_uri": "https://localhost:8080/"
        },
        "id": "XiipT9XbA8dq",
        "outputId": "48c3496b-8a6d-4a4f-c73b-278b194962fe"
      },
      "execution_count": null,
      "outputs": [
        {
          "output_type": "stream",
          "name": "stdout",
          "text": [
            "3zaheer\n"
          ]
        }
      ]
    },
    {
      "cell_type": "code",
      "source": [
        "a = \"Never Settle\"\n",
        "\n",
        "print(a[-1:-4])"
      ],
      "metadata": {
        "colab": {
          "base_uri": "https://localhost:8080/"
        },
        "id": "PegjVLwX81i8",
        "outputId": "841e0446-f664-4b2d-ac91-b988ad932b55"
      },
      "execution_count": null,
      "outputs": [
        {
          "output_type": "stream",
          "name": "stdout",
          "text": [
            "\n"
          ]
        }
      ]
    },
    {
      "cell_type": "code",
      "source": [
        "a = int(input(\"Enter a value : \"))\n",
        "\n",
        "b = int(input(\"Enter b value:  \"))\n",
        "\n",
        "k = a > b\n",
        "\n",
        "\n",
        "if k == True :\n",
        "  print(\"a is greater\")\n",
        "else:\n",
        "  print(\"a is not greater\")\n"
      ],
      "metadata": {
        "colab": {
          "base_uri": "https://localhost:8080/"
        },
        "id": "AD_GH5D0-bbl",
        "outputId": "be179e68-a5d9-4cd1-9b8c-82c2685f4941"
      },
      "execution_count": null,
      "outputs": [
        {
          "output_type": "stream",
          "name": "stdout",
          "text": [
            "Enter a value : 15\n",
            "Enter b value:  30\n",
            "a is not greater\n"
          ]
        }
      ]
    },
    {
      "cell_type": "code",
      "source": [
        "myList = [\"apple\", True , 99 ]\n",
        "\n",
        "myList.append(\"Name\")  #to add the element at last\n",
        "\n",
        "print(myList)\n",
        "\n",
        "print(len(myList))  #length of list / array\n",
        "\n",
        "myList[0] = \"Banana\"   #to update the list/array elements\n",
        "\n",
        "print(myList)\n",
        "\n",
        "myList.remove(99) #to remove\n",
        "\n",
        "print(myList)\n",
        "\n",
        "myList.append(\"mango\")  #to add the element at last\n",
        "\n",
        "print(myList)\n",
        "\n",
        "myList.pop(2)   #to remove perticular item in a list\n",
        "\n",
        "print(myList)\n",
        "\n",
        "\n",
        "myList.insert( 0 , \"new ele\" ) #to add elements at particular index\n",
        "\n",
        "print(myList)\n",
        "\n",
        "\n",
        "myList.clear( )\n",
        "\n",
        "print(myList)\n",
        "print(\"the list is clear / empty\")\n"
      ],
      "metadata": {
        "colab": {
          "base_uri": "https://localhost:8080/"
        },
        "id": "Yw0lYml2A09Z",
        "outputId": "cb643975-f64a-4f52-cabe-90f60668e2df"
      },
      "execution_count": null,
      "outputs": [
        {
          "output_type": "stream",
          "name": "stdout",
          "text": [
            "['apple', True, 99, 'Name']\n",
            "4\n",
            "['Banana', True, 99, 'Name']\n",
            "['Banana', True, 'Name']\n",
            "['Banana', True, 'Name', 'mango']\n",
            "['Banana', True, 'mango']\n",
            "['new ele', 'Banana', True, 'mango']\n",
            "[]\n",
            "the list is clear / empty\n"
          ]
        }
      ]
    },
    {
      "cell_type": "code",
      "source": [
        "list = [1,2,3,4,6,66,77,2,3,1,6]\n",
        "list.sort(reverse=True)\n",
        "print(list)\n",
        "\n",
        "list.reverse()\n",
        "print(list)"
      ],
      "metadata": {
        "colab": {
          "base_uri": "https://localhost:8080/"
        },
        "id": "2slyxd9EDyIN",
        "outputId": "ec238d9b-f67c-44f2-b489-73bcc55e231d"
      },
      "execution_count": null,
      "outputs": [
        {
          "output_type": "stream",
          "name": "stdout",
          "text": [
            "[77, 66, 6, 6, 4, 3, 3, 2, 2, 1, 1]\n",
            "[1, 1, 2, 2, 3, 3, 4, 6, 6, 66, 77]\n"
          ]
        }
      ]
    },
    {
      "cell_type": "code",
      "source": [
        "#to write a program for performing all the arthimatic operations\n",
        "#to make a simple calculater\n",
        "#type - 1\n",
        "\n",
        "a = int(input(\"Enetr a value :\"))\n",
        "b = int(input(\"Enetr b value :\"))\n",
        "\n",
        "add = a + b\n",
        "sub = a - b\n",
        "mul = a * b\n",
        "div = a/b\n",
        "mod = a%b\n",
        "quo = a//b\n",
        "exp = a**b\n",
        "\n",
        "print(\"Addition :\", add)\n",
        "print(\"subtraction : \", sub)\n",
        "print(\"multiplication :\",mul)\n",
        "print(\"division : \", div)\n",
        "print(\"Mod : \", mod)\n",
        "print(\"Quo : \", quo)\n",
        "print(\"Expo : \", exp)\n"
      ],
      "metadata": {
        "colab": {
          "base_uri": "https://localhost:8080/"
        },
        "id": "mbJpsyh-EeO7",
        "outputId": "00336b29-7d06-4707-ccbd-e2c04fcc8dfc"
      },
      "execution_count": null,
      "outputs": [
        {
          "output_type": "stream",
          "name": "stdout",
          "text": [
            "Enetr a value :2\n",
            "Enetr b value :1\n",
            "Addition : 3\n",
            "subtraction :  1\n",
            "multiplication : 2\n",
            "division :  2.0\n",
            "Mod :  0\n",
            "Quo :  2\n",
            "Expo :  2\n"
          ]
        }
      ]
    },
    {
      "cell_type": "code",
      "source": [
        "#to write a program for performing all the arthimatic operations\n",
        "#to make a simple calculater\n",
        "#Type 2\n",
        "a = int(input(\"Enetr a value :\"))\n",
        "b = int(input(\"Enetr b value :\"))\n",
        "\n",
        "\n",
        "print(\"Addition :\",  a + b)\n",
        "print(\"subtraction : \", a - b)\n",
        "print(\"multiplication :\",a * b)\n",
        "print(\"division : \", a/b)\n",
        "print(\"Mod : \", a%b)\n",
        "print(\"Quo : \", a//b)\n",
        "print(\"Expo : \", a**b)\n"
      ],
      "metadata": {
        "colab": {
          "base_uri": "https://localhost:8080/"
        },
        "id": "DFK5X_vYA42X",
        "outputId": "9ed2d8dc-422c-4fcb-c506-24a188e14e54"
      },
      "execution_count": null,
      "outputs": [
        {
          "output_type": "stream",
          "name": "stdout",
          "text": [
            "Enetr a value :1\n",
            "Enetr b value :2\n",
            "Addition : 3\n",
            "subtraction :  -1\n",
            "multiplication : 2\n",
            "division :  0.5\n",
            "Mod :  1\n",
            "Quo :  0\n",
            "Expo :  1\n"
          ]
        }
      ]
    },
    {
      "cell_type": "code",
      "source": [
        "#Comparison Operators\n",
        "\n",
        "a = 10\n",
        "b= 20\n",
        "\n",
        "print(a==b)\n",
        "print(a!=b)\n",
        "print(a>b)\n",
        "print(a<b)\n",
        "print(a>=b)\n",
        "print(a<=b)\n",
        "\n",
        "\n"
      ],
      "metadata": {
        "colab": {
          "base_uri": "https://localhost:8080/"
        },
        "id": "EDRdP_h6Fu86",
        "outputId": "a4630e75-898e-464b-a681-338ee4cc2caa"
      },
      "execution_count": null,
      "outputs": [
        {
          "output_type": "stream",
          "name": "stdout",
          "text": [
            "False\n",
            "True\n",
            "False\n",
            "True\n",
            "False\n",
            "True\n"
          ]
        }
      ]
    },
    {
      "cell_type": "code",
      "source": [
        "# Define some boolean values\n",
        "a = True\n",
        "b = False\n",
        "\n",
        "# Using logical operators\n",
        "print(a and b)  # Logical AND: True if both a and b are True, else False - F\n",
        "print(a or b)   # Logical OR: True if either a or b is True - T\n",
        "print(not a)    # Logical NOT: Inverts the value of a - F\n",
        "print(not b)    # Logical NOT: Inverts the value of b - T\n"
      ],
      "metadata": {
        "colab": {
          "base_uri": "https://localhost:8080/"
        },
        "id": "0LgJaxWBH2EQ",
        "outputId": "1e93a96a-b89d-4cd5-f31b-a95d54e7714e"
      },
      "execution_count": null,
      "outputs": [
        {
          "output_type": "stream",
          "name": "stdout",
          "text": [
            "False\n",
            "True\n",
            "False\n",
            "True\n"
          ]
        }
      ]
    },
    {
      "cell_type": "code",
      "source": [
        "a = 10\n",
        "\n",
        "'''\n",
        "a+=2  #a = 10+2\n",
        "print(a)\n",
        "\n",
        "\n",
        "a*=2\n",
        "print(a)\n",
        "'''\n",
        "\n",
        "a **=2\n",
        "print(a)\n"
      ],
      "metadata": {
        "colab": {
          "base_uri": "https://localhost:8080/"
        },
        "id": "BifqeTDhNjrm",
        "outputId": "8f9d9baa-3f81-4277-bdb9-5672492d4edd"
      },
      "execution_count": null,
      "outputs": [
        {
          "output_type": "stream",
          "name": "stdout",
          "text": [
            "100\n"
          ]
        }
      ]
    },
    {
      "cell_type": "code",
      "source": [
        "a = 1\n",
        "b = 0\n",
        "\n",
        "print(a or a and b)"
      ],
      "metadata": {
        "id": "3GEG_M0AO8EC",
        "colab": {
          "base_uri": "https://localhost:8080/"
        },
        "outputId": "6322d2d9-b84c-4633-c7dd-214052e62d99"
      },
      "execution_count": null,
      "outputs": [
        {
          "output_type": "stream",
          "name": "stdout",
          "text": [
            "1\n"
          ]
        }
      ]
    },
    {
      "cell_type": "code",
      "source": [
        "a = 100\n",
        "b = 1000\n",
        "if a>b:\n",
        "  print(\"if part\")\n",
        "elif a==b:\n",
        "  print(\"elif part\")\n",
        "else:\n",
        "  print(\"else part\")\n",
        "\n",
        "\n",
        "\n"
      ],
      "metadata": {
        "colab": {
          "base_uri": "https://localhost:8080/"
        },
        "id": "TVVyj0qbSpyB",
        "outputId": "e17e24b5-86e8-417b-f6b8-4cac88488458"
      },
      "execution_count": null,
      "outputs": [
        {
          "output_type": "stream",
          "name": "stdout",
          "text": [
            "else part\n"
          ]
        }
      ]
    },
    {
      "cell_type": "code",
      "source": [
        "a = 99\n",
        "b = 88\n",
        "\n",
        "if a > b :\n",
        "  if a>100:\n",
        "    print(\"100\")\n",
        "  else:\n",
        "    print(\"<100\")\n",
        "else:\n",
        "  print(\"a<b\")\n",
        "\n",
        "\n",
        "\n",
        "\n"
      ],
      "metadata": {
        "colab": {
          "base_uri": "https://localhost:8080/"
        },
        "id": "u-m43g7SeQx_",
        "outputId": "de604d40-cd1f-495d-daa8-f09846203062"
      },
      "execution_count": null,
      "outputs": [
        {
          "output_type": "stream",
          "name": "stdout",
          "text": [
            "<100\n"
          ]
        }
      ]
    },
    {
      "cell_type": "code",
      "source": [
        "#Task- Write a program to check the student has passed the exam or no\n",
        "\n",
        "#if got above 60 or equal to 60 then pass orelse fail\n",
        "\n",
        "#s1,s2,s3,s4 find avg return the average of students marks\n",
        "\n",
        "s1 = int(input())\n",
        "s2 = int(input())\n",
        "s3 = int(input())\n",
        "s4 = int(input())\n",
        "\n",
        "avg = (s1+s2+s3+s4)/4\n",
        "\n",
        "if (s1>=60 and s2>=60 and s3>=60 and s4>=60 ):\n",
        "  print(\"Pass\",avg)\n",
        "else:\n",
        "  print(\"Fail\")\n",
        "\n",
        "\n"
      ],
      "metadata": {
        "id": "z3X7YoMIbghs",
        "colab": {
          "base_uri": "https://localhost:8080/"
        },
        "outputId": "6f1b7fe4-401f-4754-a356-f2157660140f"
      },
      "execution_count": null,
      "outputs": [
        {
          "output_type": "stream",
          "name": "stdout",
          "text": [
            "66\n",
            "65\n",
            "44\n",
            "99\n",
            "Fail\n"
          ]
        }
      ]
    },
    {
      "cell_type": "code",
      "source": [
        "\n",
        "#OR\n",
        "a = 200\n",
        "b = 333\n",
        "c = 500\n",
        "if a > b or a > c:\n",
        "  print(\"At least one of the conditions is True\")\n",
        "\n",
        "else:\n",
        "  print(\"Nothing\")"
      ],
      "metadata": {
        "colab": {
          "base_uri": "https://localhost:8080/"
        },
        "id": "NbeFzOuldqR9",
        "outputId": "05dfeead-3d94-402f-ee0d-b7cace44fa9d"
      },
      "execution_count": null,
      "outputs": [
        {
          "output_type": "stream",
          "name": "stdout",
          "text": [
            "Nothing\n"
          ]
        }
      ]
    },
    {
      "cell_type": "code",
      "source": [
        "print(3|7)\n",
        "print(bin(3|7)[2:])"
      ],
      "metadata": {
        "colab": {
          "base_uri": "https://localhost:8080/"
        },
        "id": "lKWmyUnj3GaA",
        "outputId": "bebc1c85-eecf-418e-b23e-4ca5ba2e6b05"
      },
      "execution_count": null,
      "outputs": [
        {
          "output_type": "stream",
          "name": "stdout",
          "text": [
            "7\n",
            "111\n"
          ]
        }
      ]
    },
    {
      "cell_type": "code",
      "source": [
        "print(bin(3 & 7)[2:])"
      ],
      "metadata": {
        "colab": {
          "base_uri": "https://localhost:8080/"
        },
        "id": "9gjo0MGx1xSB",
        "outputId": "f86087d8-d979-4b60-a1c2-c37173b20a77"
      },
      "execution_count": null,
      "outputs": [
        {
          "output_type": "stream",
          "name": "stdout",
          "text": [
            "11\n"
          ]
        }
      ]
    },
    {
      "cell_type": "code",
      "source": [
        "#write a program to find the greatest number amoung the given 3 numbers\n",
        "\n",
        "\n",
        "a = 33\n",
        "b = 44\n",
        "c = 433\n",
        "\n",
        "print(max(a,b,c))\n",
        "print(min(a,b,c))\n",
        "\n"
      ],
      "metadata": {
        "colab": {
          "base_uri": "https://localhost:8080/"
        },
        "id": "56ISY8qH4YSL",
        "outputId": "b2cc3084-530b-48e0-a52b-a2c2ce907874"
      },
      "execution_count": null,
      "outputs": [
        {
          "output_type": "stream",
          "name": "stdout",
          "text": [
            "433\n",
            "33\n"
          ]
        }
      ]
    },
    {
      "cell_type": "code",
      "source": [
        "fruits = [\"apple\", \"banana\", \"cherry\"]\n",
        "for x in fruits:\n",
        "  print(x)"
      ],
      "metadata": {
        "colab": {
          "base_uri": "https://localhost:8080/"
        },
        "id": "gHqU8Fc95xBp",
        "outputId": "a39e5cc2-1a2e-4f69-8d14-6b1f4c896665"
      },
      "execution_count": null,
      "outputs": [
        {
          "output_type": "stream",
          "name": "stdout",
          "text": [
            "apple\n",
            "banana\n",
            "cherry\n"
          ]
        }
      ]
    },
    {
      "cell_type": "code",
      "source": [
        "for x in \"abnana\":\n",
        "  print(x)"
      ],
      "metadata": {
        "colab": {
          "base_uri": "https://localhost:8080/"
        },
        "id": "9hhv_R9p7iHA",
        "outputId": "0e125d11-b7e2-421f-ba31-c3f9a4e64a13"
      },
      "execution_count": null,
      "outputs": [
        {
          "output_type": "stream",
          "name": "stdout",
          "text": [
            "b\n",
            "a\n",
            "n\n",
            "a\n",
            "n\n",
            "a\n"
          ]
        }
      ]
    },
    {
      "cell_type": "code",
      "source": [
        "for i in range(1,10): #number of iterations = n-1\n",
        "  print(i)"
      ],
      "metadata": {
        "colab": {
          "base_uri": "https://localhost:8080/"
        },
        "id": "ALsBlGZI73H1",
        "outputId": "a3997f94-1317-4d66-ae61-7646b0e57abb"
      },
      "execution_count": null,
      "outputs": [
        {
          "output_type": "stream",
          "name": "stdout",
          "text": [
            "1\n",
            "2\n",
            "3\n",
            "4\n",
            "5\n",
            "6\n",
            "7\n",
            "8\n",
            "9\n"
          ]
        }
      ]
    },
    {
      "cell_type": "code",
      "source": [
        "for j in \"zaheer sha\":\n",
        "  print(j)"
      ],
      "metadata": {
        "colab": {
          "base_uri": "https://localhost:8080/"
        },
        "id": "b888R8RE8S5y",
        "outputId": "d6c702bd-a956-4391-a2d4-913a40b614bf"
      },
      "execution_count": null,
      "outputs": [
        {
          "output_type": "stream",
          "name": "stdout",
          "text": [
            "z\n",
            "a\n",
            "h\n",
            "e\n",
            "e\n",
            "r\n",
            " \n",
            "s\n",
            "h\n",
            "a\n"
          ]
        }
      ]
    },
    {
      "cell_type": "code",
      "source": [
        "for x in range(6):\n",
        "  print(x)"
      ],
      "metadata": {
        "colab": {
          "base_uri": "https://localhost:8080/"
        },
        "id": "T67DnOWD8gNR",
        "outputId": "2b3d3ede-e9fa-443c-8735-29d780cef464"
      },
      "execution_count": null,
      "outputs": [
        {
          "output_type": "stream",
          "name": "stdout",
          "text": [
            "0\n",
            "1\n",
            "2\n",
            "3\n",
            "4\n",
            "5\n"
          ]
        }
      ]
    },
    {
      "cell_type": "code",
      "source": [
        "for x in range(2, 6):\n",
        "  print(x)"
      ],
      "metadata": {
        "colab": {
          "base_uri": "https://localhost:8080/"
        },
        "id": "3k-tmBsA8zt5",
        "outputId": "adbb11f4-e373-4e89-afff-7d06a9218cfe"
      },
      "execution_count": null,
      "outputs": [
        {
          "output_type": "stream",
          "name": "stdout",
          "text": [
            "2\n",
            "3\n",
            "4\n",
            "5\n"
          ]
        }
      ]
    },
    {
      "cell_type": "code",
      "source": [
        "for x in range(0, 10, 2):\n",
        "  print(x)"
      ],
      "metadata": {
        "colab": {
          "base_uri": "https://localhost:8080/"
        },
        "id": "e0YTO7gc9Bmg",
        "outputId": "9ba30566-bae6-4285-d5fe-46c0efdc474b"
      },
      "execution_count": null,
      "outputs": [
        {
          "output_type": "stream",
          "name": "stdout",
          "text": [
            "0\n",
            "2\n",
            "4\n",
            "6\n",
            "8\n"
          ]
        }
      ]
    },
    {
      "cell_type": "code",
      "source": [
        "for x in range(2, 30, 3):\n",
        "  print(x)"
      ],
      "metadata": {
        "colab": {
          "base_uri": "https://localhost:8080/"
        },
        "id": "3TP784Ru9QzN",
        "outputId": "9a2075eb-1158-42fa-c7e3-4c3a2033812b"
      },
      "execution_count": null,
      "outputs": [
        {
          "output_type": "stream",
          "name": "stdout",
          "text": [
            "2\n",
            "5\n",
            "8\n",
            "11\n",
            "14\n",
            "17\n",
            "20\n",
            "23\n",
            "26\n",
            "29\n"
          ]
        }
      ]
    },
    {
      "cell_type": "code",
      "source": [
        "for x in range(6):\n",
        "  print(x) #012345\n",
        "else:\n",
        "  print(\"Finally finished!\")\n"
      ],
      "metadata": {
        "colab": {
          "base_uri": "https://localhost:8080/"
        },
        "id": "r6kXzStk9Zer",
        "outputId": "b44bcdd3-c56c-4b35-b292-b7ccfbc58e15"
      },
      "execution_count": null,
      "outputs": [
        {
          "output_type": "stream",
          "name": "stdout",
          "text": [
            "0\n",
            "1\n",
            "2\n",
            "3\n",
            "4\n",
            "5\n",
            "Finally finished!\n"
          ]
        }
      ]
    },
    {
      "cell_type": "code",
      "source": [
        "array1 = [\"red\", \"big\", \"tasty\"]\n",
        "array2 = [\"apple\", \"banana\", \"cherry\"]\n",
        "array3 = [\"1\", \"2\", \"3\"]\n",
        "\n",
        "#nested for loops\n",
        "for x in array1:\n",
        "  for y in array2:\n",
        "    for z in array3:\n",
        "      print(x, y, z)"
      ],
      "metadata": {
        "colab": {
          "base_uri": "https://localhost:8080/"
        },
        "id": "o73DJXv791hq",
        "outputId": "f75c555b-d82f-4de7-fbb1-f303fe240272"
      },
      "execution_count": null,
      "outputs": [
        {
          "output_type": "stream",
          "name": "stdout",
          "text": [
            "red apple 1\n",
            "red apple 2\n",
            "red apple 3\n",
            "red banana 1\n",
            "red banana 2\n",
            "red banana 3\n",
            "red cherry 1\n",
            "red cherry 2\n",
            "red cherry 3\n",
            "big apple 1\n",
            "big apple 2\n",
            "big apple 3\n",
            "big banana 1\n",
            "big banana 2\n",
            "big banana 3\n",
            "big cherry 1\n",
            "big cherry 2\n",
            "big cherry 3\n",
            "tasty apple 1\n",
            "tasty apple 2\n",
            "tasty apple 3\n",
            "tasty banana 1\n",
            "tasty banana 2\n",
            "tasty banana 3\n",
            "tasty cherry 1\n",
            "tasty cherry 2\n",
            "tasty cherry 3\n"
          ]
        }
      ]
    },
    {
      "cell_type": "code",
      "source": [
        "#reversing a string using slicing\n",
        "\n",
        "string = \"ragupriya\"\n",
        "#string[start:end:-1]\n",
        "reversed_string = string[::-1]\n",
        "print(reversed_string)"
      ],
      "metadata": {
        "colab": {
          "base_uri": "https://localhost:8080/"
        },
        "id": "PQHPoEGB_IXN",
        "outputId": "d6809fe4-a0cd-43ec-80e4-dfd0275642fe"
      },
      "execution_count": null,
      "outputs": [
        {
          "output_type": "stream",
          "name": "stdout",
          "text": [
            "ayirpugar\n"
          ]
        }
      ]
    },
    {
      "cell_type": "code",
      "source": [
        "#reversing a string using loops\n",
        "\n",
        "string = input(\"Enter a string: \")\n",
        "reversed_string = \"\"\n",
        "for char in string:\n",
        "    reversed_string = char + reversed_string\n",
        "print(\"Reversed string:\", reversed_string)"
      ],
      "metadata": {
        "colab": {
          "base_uri": "https://localhost:8080/"
        },
        "id": "pQnhOt8OA6-S",
        "outputId": "2b2f6b64-3867-4e11-c648-bb60845072f1"
      },
      "execution_count": null,
      "outputs": [
        {
          "output_type": "stream",
          "name": "stdout",
          "text": [
            "Enter a string: zaheer\n",
            "Reversed string: reehaz\n"
          ]
        }
      ]
    },
    {
      "cell_type": "code",
      "source": [
        "#palindrome\n",
        "string = input(\"Enter a word\")\n",
        "reversed_string = string[::-1]\n",
        "\n",
        "if (reversed_string == string ) :\n",
        "  print(\"palindrome\")\n",
        "else:\n",
        "  print(\"not a palindrome\")\n"
      ],
      "metadata": {
        "colab": {
          "base_uri": "https://localhost:8080/"
        },
        "id": "9iAj91M1_4ux",
        "outputId": "042b95ef-39dd-43d4-8b95-9d13eedd7fcb"
      },
      "execution_count": null,
      "outputs": [
        {
          "output_type": "stream",
          "name": "stdout",
          "text": [
            "Enter a wordzaheer\n",
            "not a palindrome\n"
          ]
        }
      ]
    },
    {
      "cell_type": "code",
      "source": [
        "# Program to Find the Square of a Number\n",
        "\n",
        "a = int(input())\n",
        "\n",
        "#square = a*a\n",
        "\n",
        "print(\"square of number is : \", a*a)"
      ],
      "metadata": {
        "id": "HT_nHWBZBpWq",
        "colab": {
          "base_uri": "https://localhost:8080/"
        },
        "outputId": "e0041229-dd7a-466b-f9c0-f0b6892554f2"
      },
      "execution_count": null,
      "outputs": [
        {
          "output_type": "stream",
          "name": "stdout",
          "text": [
            "5\n",
            "square of number is :  25\n"
          ]
        }
      ]
    },
    {
      "cell_type": "code",
      "source": [
        "#Program to Check if a Number is Even or Odd\n",
        "\n",
        "\n",
        "num = int(input())\n",
        "\n",
        "if num % 2 == 0:\n",
        "  print(\"Even no\")\n",
        "else:\n",
        "  print(\"odd\")"
      ],
      "metadata": {
        "colab": {
          "base_uri": "https://localhost:8080/"
        },
        "id": "hRoueKCm8ize",
        "outputId": "bba41b2c-8cc5-4ff7-c485-1727a3830bfc"
      },
      "execution_count": null,
      "outputs": [
        {
          "output_type": "stream",
          "name": "stdout",
          "text": [
            "1000\n",
            "Even no\n"
          ]
        }
      ]
    },
    {
      "cell_type": "code",
      "source": [
        "#Program to Find the Largest of Three Numbers\n",
        "\n",
        "n1 = 10\n",
        "n2 = 15\n",
        "n3 = 8\n",
        "\n",
        "if n1 >=n2 and n1 >= n3:\n",
        "  print(\"larger number is n1 \",n1)\n",
        "elif n2 >= n1 and n2 >= n3 :\n",
        "  print(\"larger number is n2 \",n2)\n",
        "else:\n",
        "  print(\"larger number is n3 \",n3)"
      ],
      "metadata": {
        "colab": {
          "base_uri": "https://localhost:8080/"
        },
        "id": "7Ck_ylk69Occ",
        "outputId": "51da9847-2251-479f-cac1-0c096127e7c6"
      },
      "execution_count": null,
      "outputs": [
        {
          "output_type": "stream",
          "name": "stdout",
          "text": [
            "larger number is n2  15\n"
          ]
        }
      ]
    },
    {
      "cell_type": "code",
      "source": [
        "#Program to Find the Largest of Three Numbers\n",
        "\n",
        "n1 = 10\n",
        "n2 = 15\n",
        "n3 = 8\n",
        "\n",
        "if n1 >=n2 and n1 >= n3:\n",
        "  larger = n1\n",
        "elif n2 >= n1 and n2 >= n3 :\n",
        "  larger = n2\n",
        "else:\n",
        "  larger = n3\n",
        "\n",
        "print(\"Largest of the three numbers is : \",larger)"
      ],
      "metadata": {
        "colab": {
          "base_uri": "https://localhost:8080/"
        },
        "id": "DRrv2Dkz971j",
        "outputId": "6bc6770a-4878-441f-e555-62c1badc7e90"
      },
      "execution_count": null,
      "outputs": [
        {
          "output_type": "stream",
          "name": "stdout",
          "text": [
            "Largest of the three numbers is :  15\n"
          ]
        }
      ]
    },
    {
      "cell_type": "code",
      "source": [
        "#Program to Swap Two Numbers\n",
        "\n",
        "a = 10\n",
        "b = 30\n",
        "c = 50\n",
        "\n",
        "print(\"Before\")\n",
        "print(\"a :\",a)\n",
        "print(\"b :\",b)\n",
        "print(\"c :\",c)\n",
        "\n",
        "a,b,c = c,a,b\n",
        "\n",
        "print(\"After\")\n",
        "print(\"a :\",a)\n",
        "print(\"b :\",b)\n",
        "print(\"c :\",c)\n",
        "\n",
        "print(a,b,c)\n",
        "\n"
      ],
      "metadata": {
        "colab": {
          "base_uri": "https://localhost:8080/"
        },
        "id": "pqpsOgct-Xfz",
        "outputId": "a0364226-394f-4135-bd1b-8677163cc39c"
      },
      "execution_count": null,
      "outputs": [
        {
          "output_type": "stream",
          "name": "stdout",
          "text": [
            "Before\n",
            "a : 10\n",
            "b : 30\n",
            "c : 50\n",
            "After\n",
            "a : 50\n",
            "b : 10\n",
            "c : 30\n",
            "50 10 30\n"
          ]
        }
      ]
    },
    {
      "cell_type": "code",
      "source": [
        "#Program to Find the Length of a String\n",
        "\n",
        "string = \"Zaheer sha\"\n",
        "array = [\"a\",1,True,\"Male\",0]\n",
        "print(len(string))\n",
        "print(len(array))"
      ],
      "metadata": {
        "colab": {
          "base_uri": "https://localhost:8080/"
        },
        "id": "pGwGezyu__aN",
        "outputId": "833470f1-e874-4128-b748-4acd5341544e"
      },
      "execution_count": null,
      "outputs": [
        {
          "output_type": "stream",
          "name": "stdout",
          "text": [
            "10\n",
            "5\n"
          ]
        }
      ]
    },
    {
      "cell_type": "code",
      "source": [
        "#Program to Count the Occurrences of a Character in a String\n",
        "\n",
        "string= input(\"Enter string : \")\n",
        "\n",
        "char = input(\"which char u want to find : \")\n",
        "\n",
        "count = string.count(char)\n",
        "\n",
        "print(\"the character\",char,\"appeared\", count,\"time in a string \")"
      ],
      "metadata": {
        "colab": {
          "base_uri": "https://localhost:8080/"
        },
        "id": "IUets5MGAZPA",
        "outputId": "1ac4fbef-23e2-4e74-d201-0eb40802bc10"
      },
      "execution_count": null,
      "outputs": [
        {
          "output_type": "stream",
          "name": "stdout",
          "text": [
            "Enter string : rrr\n",
            "which char u want to find : r\n",
            "the character r appeared 3 time in a string \n"
          ]
        }
      ]
    },
    {
      "cell_type": "code",
      "source": [
        "# Program to Convert Temperature from Celsius to Fahrenheit\n",
        "\n",
        "c = 25\n",
        "formula = (c * 9/5 )+32\n",
        "print(\"celsius = \",c , \"Fahrenheit = \",formula)"
      ],
      "metadata": {
        "colab": {
          "base_uri": "https://localhost:8080/"
        },
        "id": "9CLXRhC8_VyG",
        "outputId": "fca3fa1d-71c1-47fa-b59e-3bc441c5f3c4"
      },
      "execution_count": null,
      "outputs": [
        {
          "output_type": "stream",
          "name": "stdout",
          "text": [
            "celsius =  25 Fahrenheit =  77.0\n"
          ]
        }
      ]
    },
    {
      "cell_type": "code",
      "source": [
        "#Program to Find the Sum of Digits in a Number\n",
        "\n",
        "digit = 6789\n",
        "print(\"Digit data type \",type(digit))\n",
        "\n",
        "string = str(digit)\n",
        "print(\"string data type \", type(string))\n",
        "\n",
        "sod = 0\n",
        "\n",
        "for i in string :\n",
        "  sod = sod + int(i)\n",
        "  print(\"value of sod for iteration \",i,\"is = \",sod)\n",
        "\n",
        "print(\"sum of digits : \",sod)\n"
      ],
      "metadata": {
        "colab": {
          "base_uri": "https://localhost:8080/"
        },
        "id": "RaXLX2cWDdJj",
        "outputId": "cfb0ba74-8082-4bd0-c73b-0521b2717952"
      },
      "execution_count": null,
      "outputs": [
        {
          "output_type": "stream",
          "name": "stdout",
          "text": [
            "Digit data type  <class 'int'>\n",
            "string data type  <class 'str'>\n",
            "value of sod for iteration  6 is =  6\n",
            "value of sod for iteration  7 is =  13\n",
            "value of sod for iteration  8 is =  21\n",
            "value of sod for iteration  9 is =  30\n",
            "sum of digits :  30\n"
          ]
        }
      ]
    },
    {
      "cell_type": "code",
      "source": [
        "#Program to Calculate the Factorial of a Number\n",
        "\n",
        "num = int(input(\"enter the number : \"))\n",
        "\n",
        "fact = 1\n",
        "\n",
        "for i in range(1,num+1):\n",
        "  fact *= i\n",
        "  print(\"for iteration\",i,\"fact value is \",fact)\n",
        "\n",
        "print(\"FActorial of\",num,\"is\",fact)"
      ],
      "metadata": {
        "colab": {
          "base_uri": "https://localhost:8080/"
        },
        "id": "_Z1M44K1HElc",
        "outputId": "bc7d0b43-62a8-4fb1-fdb4-eb849bb2f7f5"
      },
      "execution_count": null,
      "outputs": [
        {
          "output_type": "stream",
          "name": "stdout",
          "text": [
            "enter the number : 5\n",
            "for iteration 1 fact value is  1\n",
            "for iteration 2 fact value is  2\n",
            "for iteration 3 fact value is  6\n",
            "for iteration 4 fact value is  24\n",
            "for iteration 5 fact value is  120\n",
            "FActorial of 5 is 120\n"
          ]
        }
      ]
    },
    {
      "cell_type": "code",
      "source": [
        "#Program to print tables of a given number\n",
        "\n",
        "num = int(input(\"Enter a number : \"))\n",
        "\n",
        "for i in range(1,11):\n",
        "  print(num,\"x\",i,\"=\",num*i)"
      ],
      "metadata": {
        "colab": {
          "base_uri": "https://localhost:8080/"
        },
        "id": "ASGetLf8I0R4",
        "outputId": "70c81238-539e-43f7-84c1-f20cc59990d0"
      },
      "execution_count": null,
      "outputs": [
        {
          "output_type": "stream",
          "name": "stdout",
          "text": [
            "Enter a number : 200\n",
            "200 x 1 = 200\n",
            "200 x 2 = 400\n",
            "200 x 3 = 600\n",
            "200 x 4 = 800\n",
            "200 x 5 = 1000\n",
            "200 x 6 = 1200\n",
            "200 x 7 = 1400\n",
            "200 x 8 = 1600\n",
            "200 x 9 = 1800\n",
            "200 x 10 = 2000\n"
          ]
        }
      ]
    },
    {
      "cell_type": "code",
      "source": [
        "#Program to find whether a given year is leap year or not ?\n",
        "\n",
        "year = int(input(\"Enter a year : \"))\n",
        "if (year % 4 == 0 and year % 100 !=0 ) or (year %400 == 0):\n",
        "  print(\"Leap year \",year )\n",
        "else:\n",
        "  print(\"Not a leap year \")"
      ],
      "metadata": {
        "id": "PNw26x3KKWcf"
      },
      "execution_count": null,
      "outputs": []
    },
    {
      "cell_type": "code",
      "source": [
        "#Program to find whether a given year is leap year or not ?\n",
        "year = int(input(\"Enter a year : \"))\n",
        "if (year % 4 == 0):\n",
        "  print(\"Leap year \",year )\n",
        "else:\n",
        "  print(\"Not a leap year \")"
      ],
      "metadata": {
        "colab": {
          "base_uri": "https://localhost:8080/"
        },
        "id": "EsCHg5eFLAcJ",
        "outputId": "86679994-74de-4f7f-bbc0-8e9d2cda20da"
      },
      "execution_count": null,
      "outputs": [
        {
          "output_type": "stream",
          "name": "stdout",
          "text": [
            "Enter a year : 1616\n",
            "Leap year  1616\n"
          ]
        }
      ]
    },
    {
      "cell_type": "code",
      "source": [
        "#Python program to find and print only the vowels from a given string\n",
        "\n",
        "string = \"Zaheer sha\"\n",
        "\n",
        "vowels = \"aeiouAEIOU\"\n",
        "\n",
        "foundvowels = \"\"\n",
        "\n",
        "for i in string:\n",
        "  print(\"checking for this char : \",i)\n",
        "  if i in vowels:\n",
        "    foundvowels += i\n",
        "    print(\"present checking for this character : \", i)\n",
        "    print(\"present status of result : \", foundvowels)\n",
        "\n",
        "print(\"Vowels in a string are : \",foundvowels)"
      ],
      "metadata": {
        "id": "wZ8uizawM1H4",
        "colab": {
          "base_uri": "https://localhost:8080/"
        },
        "outputId": "485bc4de-dd28-4d1b-ff41-784aad529bb9"
      },
      "execution_count": null,
      "outputs": [
        {
          "output_type": "stream",
          "name": "stdout",
          "text": [
            "checking for this char :  Z\n",
            "checking for this char :  a\n",
            "present checking for this character :  a\n",
            "present status of result :  a\n",
            "checking for this char :  h\n",
            "checking for this char :  e\n",
            "present checking for this character :  e\n",
            "present status of result :  ae\n",
            "checking for this char :  e\n",
            "present checking for this character :  e\n",
            "present status of result :  aee\n",
            "checking for this char :  r\n",
            "checking for this char :   \n",
            "checking for this char :  s\n",
            "checking for this char :  h\n",
            "checking for this char :  a\n",
            "present checking for this character :  a\n",
            "present status of result :  aeea\n",
            "Vowels in a string are :  aeea\n"
          ]
        }
      ]
    },
    {
      "cell_type": "code",
      "source": [
        "#Program to Find the Average of Numbers in a List/array\n",
        "\n",
        "list = [10,20,30,40,50]\n",
        "\n",
        "total = sum(list)\n",
        "length = len(list)\n",
        "\n",
        "average = total/length\n",
        "\n",
        "print(\"Average of Numbers in a List : \", average )"
      ],
      "metadata": {
        "colab": {
          "base_uri": "https://localhost:8080/"
        },
        "id": "Rut02REaQXWt",
        "outputId": "b585acc2-67a3-4f67-d8dd-f3353ea71ba0"
      },
      "execution_count": null,
      "outputs": [
        {
          "output_type": "stream",
          "name": "stdout",
          "text": [
            "Average of Numbers in a List :  30.0\n"
          ]
        }
      ]
    },
    {
      "cell_type": "code",
      "source": [
        "#Program to Count the Number of Words in a String\n",
        "\n",
        "string = input()\n",
        "words = string.split()\n",
        "wordcount = len(words)\n",
        "print(\"the number of words in a string is : \", wordcount)"
      ],
      "metadata": {
        "colab": {
          "base_uri": "https://localhost:8080/"
        },
        "id": "Xh46I_LsRFJv",
        "outputId": "8f434c8a-8cd5-4ee3-8193-693789928f18"
      },
      "execution_count": null,
      "outputs": [
        {
          "output_type": "stream",
          "name": "stdout",
          "text": [
            "hello world hi intern \n",
            "the number of words in a string is :  4\n"
          ]
        }
      ]
    },
    {
      "cell_type": "code",
      "source": [
        "#Program to Calculate the Power of a Number\n",
        "\n",
        "base = 2\n",
        "exponent = 3\n",
        "result = 1\n",
        "\n",
        "#type 1\n",
        "exp = base**exponent\n",
        "print(exp)\n",
        "\n",
        "#type 2\n",
        "r = pow(base,exponent)\n",
        "print(r)\n",
        "\n",
        "#type 3\n",
        "for i in range(exponent):\n",
        "  result *= base\n",
        "\n",
        "print(base,\"raised to the power of \",exponent,\"is\",result)\n",
        "\n"
      ],
      "metadata": {
        "colab": {
          "base_uri": "https://localhost:8080/"
        },
        "id": "d2xl2fA-R7Vq",
        "outputId": "0986b66b-ed3a-4c59-981d-00d701613598"
      },
      "execution_count": null,
      "outputs": [
        {
          "output_type": "stream",
          "name": "stdout",
          "text": [
            "8\n",
            "8\n",
            "2 raised to the power of  3 is 8\n"
          ]
        }
      ]
    },
    {
      "cell_type": "code",
      "source": [
        "#Program to Find the Second Largest Element in a List\n",
        "\n",
        "number = [22,55,66,33,44]\n",
        "\n",
        "number.sort()\n",
        "\n",
        "print(\" the Second Largest Element in a List\",number[-2])\n",
        "\n",
        "print(number)\n",
        "\n",
        "\n"
      ],
      "metadata": {
        "colab": {
          "base_uri": "https://localhost:8080/"
        },
        "id": "JcYYwRVzTUng",
        "outputId": "338c1144-dce7-47d7-a0b8-e6021212aeab"
      },
      "execution_count": null,
      "outputs": [
        {
          "output_type": "stream",
          "name": "stdout",
          "text": [
            " the Second Largest Element in a List 55\n",
            "[22, 33, 44, 55, 66]\n"
          ]
        }
      ]
    },
    {
      "cell_type": "code",
      "source": [
        "#Program to Remove All Occurrences of a Character in a String\n",
        "\n",
        "\n",
        "string = \"Hello World\"\n",
        "\n",
        "chartoremove = \"l\"\n",
        "\n",
        "result = string.replace(chartoremove, \"\")\n",
        "\n",
        "print(result)"
      ],
      "metadata": {
        "colab": {
          "base_uri": "https://localhost:8080/"
        },
        "id": "HLlVyuYjU124",
        "outputId": "ef4426a4-de10-40cf-96ef-b68cf944d6f1"
      },
      "execution_count": null,
      "outputs": [
        {
          "output_type": "stream",
          "name": "stdout",
          "text": [
            "Heo Word\n"
          ]
        }
      ]
    },
    {
      "cell_type": "code",
      "source": [
        "#Program to change All Occurrences of a Character in a String\n",
        "\n",
        "\n",
        "string = \"Hello World\"\n",
        "\n",
        "chartoremove = \"l\"\n",
        "\n",
        "result = string.replace(chartoremove, \"e\")\n",
        "\n",
        "print(result)"
      ],
      "metadata": {
        "colab": {
          "base_uri": "https://localhost:8080/"
        },
        "id": "oi1RoaPKVzPK",
        "outputId": "2c06bed6-c335-497e-f760-55b8f08feea8"
      },
      "execution_count": null,
      "outputs": [
        {
          "output_type": "stream",
          "name": "stdout",
          "text": [
            "Heeeo Wored\n"
          ]
        }
      ]
    },
    {
      "cell_type": "code",
      "source": [
        "#Program to Convert a Decimal Number to Binary\n",
        "\n",
        "\n",
        "decimal = 10\n",
        "\n",
        "binary = bin(decimal)[2:]\n",
        "print(binary)\n",
        "\n"
      ],
      "metadata": {
        "colab": {
          "base_uri": "https://localhost:8080/"
        },
        "id": "CfYbSRRkV7Dk",
        "outputId": "4859df2f-9cf9-4610-bee7-1d8277aa7f58"
      },
      "execution_count": null,
      "outputs": [
        {
          "output_type": "stream",
          "name": "stdout",
          "text": [
            "1010\n"
          ]
        }
      ]
    },
    {
      "cell_type": "code",
      "source": [
        "#Program to Print Each Character of a String Separately\n",
        "\n",
        "s = input(\"Enter the string : \")\n",
        "\n",
        "for i in s:\n",
        "  print(i)"
      ],
      "metadata": {
        "id": "3X99RxHxWqjY",
        "colab": {
          "base_uri": "https://localhost:8080/"
        },
        "outputId": "d9cdbc87-ec59-43d0-93a5-d144fbd5233d"
      },
      "execution_count": null,
      "outputs": [
        {
          "output_type": "stream",
          "name": "stdout",
          "text": [
            "Enter the string : python \n",
            "p\n",
            "y\n",
            "t\n",
            "h\n",
            "o\n",
            "n\n",
            " \n"
          ]
        }
      ]
    },
    {
      "cell_type": "code",
      "source": [
        "#Program to Find the Product of All Elements in a List\n",
        "\n",
        "list = [2,3,4,5]\n",
        "product = 1\n",
        "\n",
        "for i in list:\n",
        "  product *= i\n",
        "\n",
        "print(product)"
      ],
      "metadata": {
        "colab": {
          "base_uri": "https://localhost:8080/"
        },
        "id": "lcQr0p0fQVWN",
        "outputId": "c7f93b35-e16c-4516-dd19-122a597b4136"
      },
      "execution_count": null,
      "outputs": [
        {
          "output_type": "stream",
          "name": "stdout",
          "text": [
            "120\n"
          ]
        }
      ]
    },
    {
      "cell_type": "code",
      "source": [
        "#Program to Count the Number of Digits in a Number\n",
        "\n",
        "num = 123456789010\n",
        "\n",
        "result = 0\n",
        "\n",
        "for i in str(num):\n",
        "  result += 1\n",
        "\n",
        "print(result)\n"
      ],
      "metadata": {
        "colab": {
          "base_uri": "https://localhost:8080/"
        },
        "id": "3ai2GrFVQ2mU",
        "outputId": "bf1bddaa-2c80-4cc3-f39f-cc9cf5095ca8"
      },
      "execution_count": null,
      "outputs": [
        {
          "output_type": "stream",
          "name": "stdout",
          "text": [
            "12\n"
          ]
        }
      ]
    },
    {
      "cell_type": "code",
      "source": [
        "#Program to Count the Number of Even and Odd Numbers in a List\n",
        "\n",
        "array = [3,2,4,5,7,8,9,0,1]\n",
        "\n",
        "eve = 0\n",
        "odd = 0\n",
        "\n",
        "for i in array:\n",
        "  if i%2 == 0 :\n",
        "    eve += 1\n",
        "  else:\n",
        "    odd += 1\n",
        "\n",
        "print(\"even : \", eve)\n",
        "print(\"odd : \",odd)"
      ],
      "metadata": {
        "colab": {
          "base_uri": "https://localhost:8080/"
        },
        "id": "mKv5EkNxRij4",
        "outputId": "0ea4e5ab-b93f-48b0-8683-ac3357e2146e"
      },
      "execution_count": null,
      "outputs": [
        {
          "output_type": "stream",
          "name": "stdout",
          "text": [
            "even :  4\n",
            "odd :  5\n"
          ]
        }
      ]
    },
    {
      "cell_type": "code",
      "source": [
        "i = 1\n",
        "while i < 6:\n",
        "  print(i)\n",
        "  i += 1\n"
      ],
      "metadata": {
        "colab": {
          "base_uri": "https://localhost:8080/"
        },
        "id": "zboYxJHESsAP",
        "outputId": "f7b33f52-5de5-4287-f92b-a3f3e16baa21"
      },
      "execution_count": null,
      "outputs": [
        {
          "output_type": "stream",
          "name": "stdout",
          "text": [
            "1\n",
            "2\n",
            "3\n",
            "4\n",
            "5\n"
          ]
        }
      ]
    },
    {
      "cell_type": "code",
      "source": [
        "i = 1\n",
        "while i < 6:\n",
        "  print(i)\n",
        "  i += 1\n",
        "else:\n",
        "  print(\"i is no longer less than 6\")\n",
        "\n"
      ],
      "metadata": {
        "colab": {
          "base_uri": "https://localhost:8080/"
        },
        "id": "WsrWExAXTbME",
        "outputId": "c2733e11-bae5-448e-f823-f14a0c0f0bec"
      },
      "execution_count": null,
      "outputs": [
        {
          "output_type": "stream",
          "name": "stdout",
          "text": [
            "1\n",
            "2\n",
            "3\n",
            "4\n",
            "5\n",
            "i is no longer less than 6\n"
          ]
        }
      ]
    },
    {
      "cell_type": "code",
      "source": [
        "for i in range(10):\n",
        " print(i)\n",
        " if i == 7:\n",
        "  break"
      ],
      "metadata": {
        "colab": {
          "base_uri": "https://localhost:8080/"
        },
        "id": "S6ZJs9e5Toy-",
        "outputId": "dd80ff83-444d-40ad-94db-1353b1e539a6"
      },
      "execution_count": null,
      "outputs": [
        {
          "output_type": "stream",
          "name": "stdout",
          "text": [
            "0\n",
            "1\n",
            "2\n",
            "3\n",
            "4\n",
            "5\n",
            "6\n",
            "7\n"
          ]
        }
      ]
    },
    {
      "cell_type": "code",
      "source": [
        "\n",
        "for var in \"AeS\":\n",
        "    if var == \"e\":\n",
        "        continue\n",
        "    print(var)\n"
      ],
      "metadata": {
        "colab": {
          "base_uri": "https://localhost:8080/"
        },
        "id": "qr3YZamRVsHe",
        "outputId": "0db78d6a-ea16-4ed4-f52e-bc344dd76cb6"
      },
      "execution_count": null,
      "outputs": [
        {
          "output_type": "stream",
          "name": "stdout",
          "text": [
            "A\n",
            "S\n"
          ]
        }
      ]
    },
    {
      "cell_type": "code",
      "source": [
        "for i in range(10):\n",
        "   if i == 7:\n",
        "    continue\n",
        "   print(i)\n",
        "\n",
        "\n",
        "\n"
      ],
      "metadata": {
        "colab": {
          "base_uri": "https://localhost:8080/"
        },
        "id": "xoaXmSWYUiM8",
        "outputId": "64e2fa8b-1b60-4d62-fef7-563e587ef965"
      },
      "execution_count": null,
      "outputs": [
        {
          "output_type": "stream",
          "name": "stdout",
          "text": [
            "0\n",
            "1\n",
            "2\n",
            "3\n",
            "4\n",
            "5\n",
            "6\n",
            "8\n",
            "9\n"
          ]
        }
      ]
    },
    {
      "cell_type": "code",
      "source": [
        "# loop from 1 to 10\n",
        "for i in range(1, 11):\n",
        " if i == 6:\n",
        "  continue\n",
        " else:\n",
        "  print(i)\n"
      ],
      "metadata": {
        "colab": {
          "base_uri": "https://localhost:8080/"
        },
        "id": "XOCY1VZlWFwe",
        "outputId": "a986416b-926a-4cfc-affa-a49130e69d13"
      },
      "execution_count": null,
      "outputs": [
        {
          "output_type": "stream",
          "name": "stdout",
          "text": [
            "1\n",
            "2\n",
            "3\n",
            "4\n",
            "5\n",
            "7\n",
            "8\n",
            "9\n",
            "10\n"
          ]
        }
      ]
    },
    {
      "cell_type": "code",
      "source": [
        "#Right-Angled Triangle Pattern\n",
        "\n",
        "rows = 10\n",
        "\n",
        "for i in range(1,rows+1):\n",
        "  print(\"*\"*i)\n"
      ],
      "metadata": {
        "colab": {
          "base_uri": "https://localhost:8080/"
        },
        "id": "Jyt7no-OWNI4",
        "outputId": "d64a4f62-dafd-4ad1-aae7-4fc13464a4cb"
      },
      "execution_count": null,
      "outputs": [
        {
          "output_type": "stream",
          "name": "stdout",
          "text": [
            "*\n",
            "**\n",
            "***\n",
            "****\n",
            "*****\n",
            "******\n",
            "*******\n",
            "********\n",
            "*********\n",
            "**********\n"
          ]
        }
      ]
    },
    {
      "cell_type": "code",
      "source": [
        "#Inverted Right-Angled Triangle Pattern\n",
        "\n",
        "rows = 10\n",
        "\n",
        "for i in range(rows,0,-1):\n",
        "  print(\"*\"*i)\n",
        "\n"
      ],
      "metadata": {
        "colab": {
          "base_uri": "https://localhost:8080/"
        },
        "id": "YfEFoUXWXsL7",
        "outputId": "d99afc1e-858a-473b-d48e-94b355d94639"
      },
      "execution_count": null,
      "outputs": [
        {
          "output_type": "stream",
          "name": "stdout",
          "text": [
            "**********\n",
            "*********\n",
            "********\n",
            "*******\n",
            "******\n",
            "*****\n",
            "****\n",
            "***\n",
            "**\n",
            "*\n"
          ]
        }
      ]
    },
    {
      "cell_type": "code",
      "source": [
        "#Square Pattern\n",
        "\n",
        "rows =10\n",
        "\n",
        "for i in range(rows):\n",
        "  print(\"*\"*rows)\n",
        "\n"
      ],
      "metadata": {
        "colab": {
          "base_uri": "https://localhost:8080/"
        },
        "id": "6feKu3wPYZNs",
        "outputId": "ee37fdb7-2450-44b3-a950-92c7c82f81fd"
      },
      "execution_count": null,
      "outputs": [
        {
          "output_type": "stream",
          "name": "stdout",
          "text": [
            "**********\n",
            "**********\n",
            "**********\n",
            "**********\n",
            "**********\n",
            "**********\n",
            "**********\n",
            "**********\n",
            "**********\n",
            "**********\n"
          ]
        }
      ]
    },
    {
      "cell_type": "code",
      "source": [
        "#Right-Angled Triangle Pattern with Numbers\n",
        "\n",
        "rows = 4\n",
        "\n",
        "for i in range(1,rows+1):\n",
        "  for j in range(1,i+1):\n",
        "    print(j,end=\" \")\n",
        "  print()\n"
      ],
      "metadata": {
        "colab": {
          "base_uri": "https://localhost:8080/"
        },
        "id": "ZekIc8soY5rT",
        "outputId": "0cc1d27f-5fe7-49ce-fc0f-ec008c2176e5"
      },
      "execution_count": null,
      "outputs": [
        {
          "output_type": "stream",
          "name": "stdout",
          "text": [
            "1 \n",
            "1 2 \n",
            "1 2 3 \n",
            "1 2 3 4 \n"
          ]
        }
      ]
    },
    {
      "cell_type": "code",
      "source": [
        "# Pyramid Pattern\n",
        "\n",
        "rows = 4\n",
        "\n",
        "for i in range(1,rows+1):\n",
        "  #print(rows-i,2*i-1)\n",
        "  print(\" \" * (rows - i) + \"*\" * (2*i-1))"
      ],
      "metadata": {
        "colab": {
          "base_uri": "https://localhost:8080/"
        },
        "id": "x-tb1mOfZl8S",
        "outputId": "016e91e6-f82a-4e08-9edb-b98f78802d75"
      },
      "execution_count": null,
      "outputs": [
        {
          "output_type": "stream",
          "name": "stdout",
          "text": [
            "   *\n",
            "  ***\n",
            " *****\n",
            "*******\n"
          ]
        }
      ]
    }
  ]
}